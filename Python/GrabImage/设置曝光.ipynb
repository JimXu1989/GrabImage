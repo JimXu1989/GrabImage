{
 "cells": [
  {
   "cell_type": "code",
   "execution_count": 1,
   "metadata": {},
   "outputs": [],
   "source": [
    "from PyQt5 import QtCore, QtGui, QtWidgets\n",
    "from PyQt5.QtCore import QDate, QTime, QTimer\n",
    "import sys\n",
    "import threading\n",
    "import matplotlib.pyplot as plt\n",
    "import imutils\n",
    "import cv2\n",
    "import numpy as np\n",
    "from PyQt5.QtGui import QImage, QPixmap\n",
    "import os,os.path\n",
    "from ctypes import *\n",
    "sys.path.append(\"../MvImport\")\n",
    "from MvCameraControl_class import *"
   ]
  },
  {
   "cell_type": "code",
   "execution_count": 11,
   "metadata": {},
   "outputs": [
    {
     "name": "stdout",
     "output_type": "stream",
     "text": [
      "Find 1 devices!\n",
      "\n",
      "u3v device: [0]\n",
      "device model name: MV-CA013-20UN\n",
      "user serial number: 00E43643236\n"
     ]
    }
   ],
   "source": [
    "deviceList = MV_CC_DEVICE_INFO_LIST()\n",
    "tlayerType = MV_GIGE_DEVICE | MV_USB_DEVICE\n",
    "\n",
    "# ch:枚举设备 | en:Enum device\n",
    "ret = MvCamera.MV_CC_EnumDevices(tlayerType, deviceList)\n",
    "if ret != 0:\n",
    "    print(\"enum devices fail! ret[0x%x]\" % ret)\n",
    "    sys.exit()\n",
    "\n",
    "if deviceList.nDeviceNum == 0:\n",
    "    print(\"find no device!\")\n",
    "    sys.exit()\n",
    "\n",
    "print(\"Find %d devices!\" % deviceList.nDeviceNum)\n",
    "\n",
    "for i in range(0, deviceList.nDeviceNum):\n",
    "    mvcc_dev_info = cast(deviceList.pDeviceInfo[i], POINTER(MV_CC_DEVICE_INFO)).contents\n",
    "    if mvcc_dev_info.nTLayerType == MV_GIGE_DEVICE:\n",
    "        print(\"\\ngige device: [%d]\" % i)\n",
    "        strModeName = \"\"\n",
    "        for per in mvcc_dev_info.SpecialInfo.stGigEInfo.chModelName:\n",
    "            strModeName = strModeName + chr(per)\n",
    "        print(\"device model name: %s\" % strModeName)\n",
    "\n",
    "        nip1 = ((mvcc_dev_info.SpecialInfo.stGigEInfo.nCurrentIp & 0xff000000) >> 24)\n",
    "        nip2 = ((mvcc_dev_info.SpecialInfo.stGigEInfo.nCurrentIp & 0x00ff0000) >> 16)\n",
    "        nip3 = ((mvcc_dev_info.SpecialInfo.stGigEInfo.nCurrentIp & 0x0000ff00) >> 8)\n",
    "        nip4 = (mvcc_dev_info.SpecialInfo.stGigEInfo.nCurrentIp & 0x000000ff)\n",
    "        print(\"current ip: %d.%d.%d.%d\\n\" % (nip1, nip2, nip3, nip4))\n",
    "    elif mvcc_dev_info.nTLayerType == MV_USB_DEVICE:\n",
    "        print(\"\\nu3v device: [%d]\" % i)\n",
    "        strModeName = \"\"\n",
    "        for per in mvcc_dev_info.SpecialInfo.stUsb3VInfo.chModelName:\n",
    "            if per == 0:\n",
    "                break\n",
    "            strModeName = strModeName + chr(per)\n",
    "        print(\"device model name: %s\" % strModeName)\n",
    "\n",
    "        strSerialNumber = \"\"\n",
    "        for per in mvcc_dev_info.SpecialInfo.stUsb3VInfo.chSerialNumber:\n",
    "            if per == 0:\n",
    "                break\n",
    "            strSerialNumber = strSerialNumber + chr(per)\n",
    "        print(\"user serial number: %s\" % strSerialNumber)\n",
    "\n",
    "# nConnectionNum = input(\"please input the number of the device to connect:\")\n",
    "nConnectionNum = 0\n",
    "if int(nConnectionNum) >= deviceList.nDeviceNum:\n",
    "    print(\"intput error!\")\n",
    "    sys.exit()\n",
    "\n",
    "# ch:创建相机实例 | en:Creat Camera Object\n",
    "cam = MvCamera()\n",
    "\n",
    "# ch:选择设备并创建句柄 | en:Select device and create handle\n",
    "stDeviceList = cast(deviceList.pDeviceInfo[int(nConnectionNum)], POINTER(MV_CC_DEVICE_INFO)).contents\n",
    "\n",
    "ret = cam.MV_CC_CreateHandle(stDeviceList)"
   ]
  },
  {
   "cell_type": "code",
   "execution_count": 12,
   "metadata": {},
   "outputs": [
    {
     "data": {
      "text/plain": [
       "<MvCameraControl_header._MV_CC_DEVICE_INFO_ at 0x13a01731a48>"
      ]
     },
     "execution_count": 12,
     "metadata": {},
     "output_type": "execute_result"
    }
   ],
   "source": [
    "stDeviceList"
   ]
  },
  {
   "cell_type": "code",
   "execution_count": 13,
   "metadata": {},
   "outputs": [
    {
     "data": {
      "text/plain": [
       "0"
      ]
     },
     "execution_count": 13,
     "metadata": {},
     "output_type": "execute_result"
    }
   ],
   "source": [
    "ret"
   ]
  },
  {
   "cell_type": "code",
   "execution_count": 14,
   "metadata": {},
   "outputs": [],
   "source": [
    "if ret != 0:\n",
    "    print(\"create handle fail! ret[0x%x]\" % ret)\n",
    "    sys.exit()\n",
    "\n",
    "# ch:打开设备 | en:Open device\n",
    "ret = cam.MV_CC_OpenDevice(MV_ACCESS_Exclusive, 0)"
   ]
  },
  {
   "cell_type": "code",
   "execution_count": 15,
   "metadata": {},
   "outputs": [
    {
     "data": {
      "text/plain": [
       "0"
      ]
     },
     "execution_count": 15,
     "metadata": {},
     "output_type": "execute_result"
    }
   ],
   "source": [
    "ret"
   ]
  },
  {
   "cell_type": "code",
   "execution_count": 16,
   "metadata": {},
   "outputs": [],
   "source": [
    "\n",
    "if ret != 0:\n",
    "    print(\"open device fail! ret[0x%x]\" % ret)\n",
    "    sys.exit()"
   ]
  },
  {
   "cell_type": "code",
   "execution_count": 17,
   "metadata": {},
   "outputs": [
    {
     "data": {
      "text/plain": [
       "1348630317584"
      ]
     },
     "execution_count": 17,
     "metadata": {},
     "output_type": "execute_result"
    }
   ],
   "source": [
    "\n",
    "\n",
    "\n",
    "# ch:探测网络最佳包大小(只对GigE相机有效) | en:Detection network optimal package size(It only works for the GigE camera)\n",
    "if stDeviceList.nTLayerType == MV_GIGE_DEVICE:\n",
    "    nPacketSize = cam.MV_CC_GetOptimalPacketSize()\n",
    "    if int(nPacketSize) > 0:\n",
    "        ret = cam.MV_CC_SetIntValue(\"GevSCPSPacketSize\", nPacketSize)\n",
    "        if ret != 0:\n",
    "            print(\"Warning: Set Packet Size fail! ret[0x%x]\" % ret)\n",
    "    else:\n",
    "        print(\"Warning: Get Packet Size fail! ret[0x%x]\" % nPacketSize)\n",
    "\n",
    "# ch:设置触发模式为off | en:Set trigger mode as off\n",
    "ret = cam.MV_CC_SetEnumValue(\"TriggerMode\", MV_TRIGGER_MODE_OFF)\n",
    "if ret != 0:\n",
    "    print(\"set trigger mode fail! ret[0x%x]\" % ret)\n",
    "    sys.exit()\n",
    "\n",
    "# ch:获取数据包大小 | en:Get payload size\n",
    "stParam = MVCC_INTVALUE()\n",
    "memset(byref(stParam), 0, sizeof(MVCC_INTVALUE))\n",
    "\n"
   ]
  },
  {
   "cell_type": "code",
   "execution_count": 20,
   "metadata": {},
   "outputs": [],
   "source": [
    "ret = cam.MV_CC_GetIntValue(\"PayloadSize\", stParam)\n",
    "# 设置曝光测试\n",
    "rrr = cam.MV_CC_SetEnumValue('ExposureAuto', MV_EXPOSURE_AUTO_MODE_OFF)\n",
    "tmpExposure = c_float(0.0)\n",
    "rr = cam.MV_CC_GetFloatValue('ExposureTime', tmpExposure)\n",
    "qq = c_float(3000.0)\n",
    "ret = cam.MV_CC_SetFloatValue('ExposureTime', 3000.0)\n",
    "ret = cam.MV_CC_SetFloatValue('ExposureTime', 5000.0)"
   ]
  },
  {
   "cell_type": "code",
   "execution_count": null,
   "metadata": {},
   "outputs": [],
   "source": []
  }
 ],
 "metadata": {
  "kernelspec": {
   "display_name": "Python 3",
   "language": "python",
   "name": "python3"
  },
  "language_info": {
   "codemirror_mode": {
    "name": "ipython",
    "version": 3
   },
   "file_extension": ".py",
   "mimetype": "text/x-python",
   "name": "python",
   "nbconvert_exporter": "python",
   "pygments_lexer": "ipython3",
   "version": "3.7.6"
  }
 },
 "nbformat": 4,
 "nbformat_minor": 4
}
