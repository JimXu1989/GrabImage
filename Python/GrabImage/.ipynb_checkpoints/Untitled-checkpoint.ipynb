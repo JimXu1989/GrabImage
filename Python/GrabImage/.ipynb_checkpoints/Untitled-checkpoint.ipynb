{
 "cells": [
  {
   "cell_type": "code",
   "execution_count": 8,
   "metadata": {},
   "outputs": [],
   "source": [
    "import cv2\n",
    "from imutils import paths\n",
    "from os import listdir"
   ]
  },
  {
   "cell_type": "code",
   "execution_count": 3,
   "metadata": {},
   "outputs": [],
   "source": [
    "a = paths.list_images('image/laserImage')"
   ]
  },
  {
   "cell_type": "code",
   "execution_count": 6,
   "metadata": {},
   "outputs": [
    {
     "data": {
      "text/plain": [
       "10"
      ]
     },
     "execution_count": 6,
     "metadata": {},
     "output_type": "execute_result"
    }
   ],
   "source": [
    "sum(1 for x in a)"
   ]
  },
  {
   "cell_type": "code",
   "execution_count": 12,
   "metadata": {},
   "outputs": [
    {
     "data": {
      "text/plain": [
       "10"
      ]
     },
     "execution_count": 12,
     "metadata": {},
     "output_type": "execute_result"
    }
   ],
   "source": [
    "aa = listdir('image/laserImage')\n",
    "len(aa)"
   ]
  },
  {
   "cell_type": "code",
   "execution_count": 13,
   "metadata": {},
   "outputs": [
    {
     "name": "stdout",
     "output_type": "stream",
     "text": [
      "1576226614501.bmp\n",
      "1576226832709.bmp\n",
      "1576226856769.bmp\n",
      "1576226900962.bmp\n",
      "1576226984266.bmp\n",
      "1576227056612.bmp\n",
      "1576227166018.bmp\n",
      "1576227358083.bmp\n",
      "1576227383864.bmp\n",
      "1576227427670.bmp\n",
      "1576226614501.bmp\n",
      "1576226832709.bmp\n",
      "1576226856769.bmp\n",
      "1576226900962.bmp\n",
      "1576226984266.bmp\n",
      "1576227056612.bmp\n",
      "1576227166018.bmp\n",
      "1576227358083.bmp\n",
      "1576227383864.bmp\n",
      "1576227427670.bmp\n"
     ]
    }
   ],
   "source": [
    "for i in range(20):\n",
    "    laserImg = cv2.imread('image/laserImage/'+aa[(i%len(aa))])\n",
    "    inferredImg = cv2.imread('image/grayImage/'+aa[(i%len(aa))])\n",
    "    nolightImg = c2.imread('image/backImage/'+aa[(i%len(aa))])\n",
    "    print(aa[(i%len(aa))])"
   ]
  },
  {
   "cell_type": "code",
   "execution_count": 10,
   "metadata": {},
   "outputs": [
    {
     "data": {
      "text/plain": [
       "range(0, 20)"
      ]
     },
     "execution_count": 10,
     "metadata": {},
     "output_type": "execute_result"
    }
   ],
   "source": []
  },
  {
   "cell_type": "code",
   "execution_count": null,
   "metadata": {},
   "outputs": [],
   "source": []
  }
 ],
 "metadata": {
  "kernelspec": {
   "display_name": "Python 3",
   "language": "python",
   "name": "python3"
  },
  "language_info": {
   "codemirror_mode": {
    "name": "ipython",
    "version": 3
   },
   "file_extension": ".py",
   "mimetype": "text/x-python",
   "name": "python",
   "nbconvert_exporter": "python",
   "pygments_lexer": "ipython3",
   "version": "3.7.6"
  }
 },
 "nbformat": 4,
 "nbformat_minor": 4
}
